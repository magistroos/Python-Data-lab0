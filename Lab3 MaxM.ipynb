{
 "cells": [
  {
   "cell_type": "code",
   "execution_count": 49,
   "id": "3ddf251b-074f-4b88-9c60-bfce8200605e",
   "metadata": {},
   "outputs": [
    {
     "name": "stdout",
     "output_type": "stream",
     "text": [
      "            Country   Energy Supply Energy Supply per Capita % Renewable\n",
      "4    American Samoa             nan                      nan       0.641\n",
      "25          Bolivia     336,000,000                   32.000      31.477\n",
      "165     South Korea  11,007,000,000                  221.000       2.279\n"
     ]
    }
   ],
   "source": [
    "import pandas as pd\n",
    "file_path = r\"C:\\Users\\Home\\OneDrive\\Рабочий стол\\Python\\Лаб 3\\En_In.xls\"\n",
    "\n",
    "# Завдання 1\n",
    "Energy = pd.read_excel(file_path, skiprows=17, usecols=[1, 3, 4, 5], nrows=227)\n",
    "Energy.columns = ['Country', 'Energy Supply', 'Energy Supply per Capita', '% Renewable']\n",
    "\n",
    "# Завдання 2\n",
    "Energy['Energy Supply'] = pd.to_numeric(Energy['Energy Supply'], errors='coerce') * 1_000_000\n",
    "\n",
    "# Завдання 3\n",
    "replace_dict = {\n",
    "    \"Republic of Korea\": \"South Korea\",\n",
    "    \"United States of America\": \"United States\",\n",
    "    \"United Kingdom of Great Britain and Northern Ireland\": \"United Kingdom\",\n",
    "    \"China, Hong Kong Special Administrative Region\": \"Hong Kong\"\n",
    "}\n",
    "Energy['Country'] = Energy['Country'].replace(replace_dict)\n",
    "\n",
    "# Завдання 4\n",
    "Energy['Country'] = Energy['Country'].str.replace(r\"\\(.*\\)\", \"\", regex=True)\n",
    "Energy['Country'] = Energy['Country'].str.replace(r\"\\d+\", \"\", regex=True).str.strip()\n",
    "\n",
    "res = Energy.loc[Energy['Country'].isin(['American Samoa', 'South Korea', 'Bolivia'])].copy()\n",
    "\n",
    "def format_numeric(value, decimals=0):\n",
    "    \"\"\"Перевірка типу і форматування чисел\"\"\"\n",
    "    if pd.notnull(value) and isinstance(value, (int, float)):\n",
    "        return f\"{value:,.{decimals}f}\"\n",
    "    else:\n",
    "        return \"nan\"\n",
    "\n",
    "res['Energy Supply'] = res['Energy Supply'].apply(lambda x: format_numeric(x, 0))\n",
    "res['Energy Supply per Capita'] = res['Energy Supply per Capita'].apply(lambda x: format_numeric(x, 3))\n",
    "res['% Renewable'] = res['% Renewable'].apply(lambda x: format_numeric(x, 3))\n",
    "\n",
    "res.index = res.index + 1\n",
    "print(res.to_string(index=True))"
   ]
  },
  {
   "cell_type": "code",
   "execution_count": 50,
   "id": "eb227a32-9d70-4d5e-82ee-4bdaac4a9a70",
   "metadata": {},
   "outputs": [
    {
     "name": "stdout",
     "output_type": "stream",
     "text": [
      "Country Country Code                           Indicator Name Indicator Code  2006  2007  2008  2009         2010  2011  2012\n",
      "  Aruba          ABW GDP at market prices (constant 2010 US$) NY.GDP.MKTP.KD   NaN   NaN   NaN   NaN 2.467704e+09   NaN   NaN\n"
     ]
    }
   ],
   "source": [
    "import pandas as pd\n",
    "file_path = r\"C:\\Users\\Home\\OneDrive\\Рабочий стол\\Python\\Лаб 3\\gpd.csv\"\n",
    "\n",
    "GPD = pd.read_csv(file_path, skiprows=4)\n",
    "\n",
    "replace_dict = {\n",
    "    \"Korea, Rep.\": \"South Korea\",\n",
    "    \"Iran, Islamic Rep.\": \"Iran\",\n",
    "    \"Hong Kong SAR, China\": \"Hong Kong\"\n",
    "}\n",
    "GPD['Country Name'] = GPD['Country Name'].replace(replace_dict)\n",
    "\n",
    "selected_columns = ['Country Name', 'Country Code', 'Indicator Name', 'Indicator Code',\n",
    "                    '2006', '2007', '2008', '2009', '2010', '2011', '2012']\n",
    "GPD = GPD[selected_columns]\n",
    "\n",
    "GPD.columns = ['Country', 'Country Code', 'Indicator Name', 'Indicator Code',\n",
    "                    '2006', '2007', '2008', '2009', '2010', '2011', '2012']\n",
    "\n",
    "print(GPD.head(1).to_string(index=False))"
   ]
  },
  {
   "cell_type": "code",
   "execution_count": 51,
   "id": "c403f5ca-e34e-427a-94a4-e1f524b444bc",
   "metadata": {},
   "outputs": [
    {
     "name": "stdout",
     "output_type": "stream",
     "text": [
      "   Rank             Country  Documents  Citable documents  Citations  \\\n",
      "0     1               China     127050             126767     597237   \n",
      "1     2       United States      96661              94747     792274   \n",
      "2     3               Japan      30504              30287     223024   \n",
      "3     4      United Kingdom      20944              20357     206091   \n",
      "4     5  Russian Federation      18534              18301      34266   \n",
      "\n",
      "   Self-citations  Citations per document  H index  \n",
      "0          411683                    4.70      138  \n",
      "1          265436                    8.20      230  \n",
      "2           61554                    7.31      134  \n",
      "3           37874                    9.84      139  \n",
      "4           12422                    1.85       57  \n"
     ]
    }
   ],
   "source": [
    "import pandas as pd\n",
    "file_path = r\"C:\\Users\\Home\\OneDrive\\Рабочий стол\\Python\\Лаб 3\\scimagojr.xlsx\"\n",
    "\n",
    "scimago_data = pd.read_excel(file_path)\n",
    "print(scimago_data.head())"
   ]
  },
  {
   "cell_type": "code",
   "execution_count": 69,
   "id": "c7769371-3ebf-4540-9768-8503facee87a",
   "metadata": {},
   "outputs": [
    {
     "name": "stdout",
     "output_type": "stream",
     "text": [
      "               Rank  Documents  Citable documents  Citations  Self-citations  \\\n",
      "Country                                                                        \n",
      "China             1     127050             126767     597237          411683   \n",
      "United States     2      96661              94747     792274          265436   \n",
      "Japan             3      30504              30287     223024           61554   \n",
      "\n",
      "               Citations per document  H index       Energy Supply  \\\n",
      "Country                                                              \n",
      "China                           4.700      138 127,191,000,000.000   \n",
      "United States                   8.200      230  90,838,000,000.000   \n",
      "Japan                           7.310      134  18,984,000,000.000   \n",
      "\n",
      "              Energy Supply per Capita  % Renewable                   2006  \\\n",
      "Country                                                                      \n",
      "China                               93       19.755  3,992,331,462,570.890   \n",
      "United States                      286       11.571 14,792,303,791,800.000   \n",
      "Japan                              149       10.233  5,496,541,517,363.310   \n",
      "\n",
      "                                2007                   2008  \\\n",
      "Country                                                       \n",
      "China          4,559,041,383,517.930  4,997,775,145,605.960   \n",
      "United States 15,055,395,304,800.000 15,011,490,541,400.000   \n",
      "Japan          5,617,035,943,770.730  5,558,526,873,313.820   \n",
      "\n",
      "                                2009                   2010  \\\n",
      "Country                                                       \n",
      "China          5,459,247,267,275.140  6,039,658,508,485.590   \n",
      "United States 14,594,842,181,900.000 14,964,372,000,000.000   \n",
      "Japan          5,251,308,399,909.320  5,498,717,815,809.770   \n",
      "\n",
      "                                2011                   2012  \\\n",
      "Country                                                       \n",
      "China          6,612,490,294,273.650  7,124,977,970,399.610   \n",
      "United States 15,204,019,634,600.000 15,542,161,722,300.000   \n",
      "Japan          5,473,738,114,222.050  5,569,101,602,926.180   \n",
      "\n",
      "                                2013                   2014  \\\n",
      "Country                                                       \n",
      "China          7,672,447,738,017.420  8,230,120,617,793.520   \n",
      "United States 15,773,666,098,800.000 16,156,618,476,000.000   \n",
      "Japan          5,644,658,523,313.420  5,642,884,448,582.190   \n",
      "\n",
      "                                2015  \n",
      "Country                               \n",
      "China          8,797,998,940,421.279  \n",
      "United States 16,548,573,278,300.000  \n",
      "Japan          5,669,563,143,140.970  \n",
      "(15, 20)\n"
     ]
    }
   ],
   "source": [
    "import pandas as pd\n",
    "file_energy = r\"C:\\Users\\Home\\OneDrive\\Рабочий стол\\Python\\Лаб 3\\En_In.xls\"\n",
    "Energy = pd.read_excel(file_energy, skiprows=17, usecols=[1, 3, 4, 5], nrows=227)\n",
    "Energy.columns = ['Country', 'Energy Supply', 'Energy Supply per Capita', '% Renewable']\n",
    "Energy['Energy Supply'] = pd.to_numeric(Energy['Energy Supply'], errors='coerce') * 1_000_000\n",
    "\n",
    "replace_dict_energy = {\n",
    "    \"Republic of Korea\": \"South Korea\",\n",
    "    \"United States of America\": \"United States\",\n",
    "    \"United Kingdom of Great Britain and Northern Ireland\": \"United Kingdom\",\n",
    "    \"China, Hong Kong Special Administrative Region\": \"Hong Kong\"\n",
    "}\n",
    "Energy['Country'] = Energy['Country'].replace(replace_dict_energy)\n",
    "Energy['Country'] = Energy['Country'].str.replace(r\"\\(.*\\)\", \"\", regex=True)\n",
    "Energy['Country'] = Energy['Country'].str.replace(r\"\\d+\", \"\", regex=True).str.strip()\n",
    "\n",
    "file_gdp = r\"C:\\Users\\Home\\OneDrive\\Рабочий стол\\Python\\Лаб 3\\gpd.csv\"\n",
    "GDP = pd.read_csv(file_gdp, skiprows=4)\n",
    "replace_dict_gdp = {\n",
    "    \"Korea, Rep.\": \"South Korea\",\n",
    "    \"Iran, Islamic Rep.\": \"Iran\",\n",
    "    \"Hong Kong SAR, China\": \"Hong Kong\"\n",
    "}\n",
    "GDP['Country Name'] = GDP['Country Name'].replace(replace_dict_gdp)\n",
    "GDP = GDP[['Country Name', '2006', '2007', '2008', '2009', '2010', '2011', '2012', '2013', '2014', '2015']]\n",
    "GDP.rename(columns={'Country Name': 'Country'}, inplace=True)\n",
    "\n",
    "file_scimago = r\"C:\\Users\\Home\\OneDrive\\Рабочий стол\\Python\\Лаб 3\\scimagojr.xlsx\"\n",
    "Scimago = pd.read_excel(file_scimago)\n",
    "Scimago = Scimago.iloc[:15]  \n",
    "merged_data = pd.merge(Scimago, Energy, on='Country', how='inner')\n",
    "Result = pd.merge(merged_data, GDP, on='Country', how='inner')\n",
    "\n",
    "columns_order = ['Country', 'Rank', 'Documents', 'Citable documents', 'Citations', 'Self-citations',\n",
    "                 'Citations per document', 'H index', 'Energy Supply', 'Energy Supply per Capita',\n",
    "                 '% Renewable', '2006', '2007', '2008', '2009', '2010', '2011', '2012', '2013', '2014', '2015']\n",
    "\n",
    "Result = Result[columns_order]\n",
    "Result.set_index('Country', inplace=True)\n",
    "pd.options.display.float_format = '{:,.3f}'.format\n",
    "\n",
    "print(Result.head(3)) \n",
    "print(Result.shape)  "
   ]
  },
  {
   "cell_type": "code",
   "execution_count": 73,
   "id": "b8f65019-03ca-4ac4-a766-8eebae901645",
   "metadata": {},
   "outputs": [
    {
     "name": "stdout",
     "output_type": "stream",
     "text": [
      "Country\n",
      "United States        15,364,344,302,990.000\n",
      "China                 6,348,608,932,836.100\n",
      "Japan                 5,542,207,638,235.176\n",
      "Germany               3,493,025,339,072.848\n",
      "France                2,681,724,635,761.589\n",
      "United Kingdom        2,487,906,661,418.417\n",
      "Brazil                2,189,794,143,774.905\n",
      "Italy                 2,120,175,089,933.776\n",
      "India                 1,769,297,396,603.860\n",
      "Canada                1,660,647,466,307.512\n",
      "Russian Federation    1,565,459,478,480.661\n",
      "Spain                 1,418,078,278,145.694\n",
      "Australia             1,164,042,729,991.427\n",
      "South Korea           1,106,714,508,244.852\n",
      "Iran                    444,155,754,051.095\n",
      "Name: avgGDP, dtype: float64\n"
     ]
    }
   ],
   "source": [
    "def task_eight():\n",
    "    gdp_columns = ['2006', '2007', '2008', '2009', '2010', '2011', '2012', '2013', '2014', '2015']\n",
    "    Result['avgGDP'] = Result[gdp_columns].mean(axis=1)\n",
    "    sorted_result = Result['avgGDP'].sort_values(ascending=False)\n",
    "    return sorted_result\n",
    "\n",
    "avg_gdp = task_eight()\n",
    "print(avg_gdp)\n"
   ]
  },
  {
   "cell_type": "code",
   "execution_count": 74,
   "id": "040c27d5-3a99-410d-a2ae-278f66e325c2",
   "metadata": {},
   "outputs": [
    {
     "name": "stdout",
     "output_type": "stream",
     "text": [
      "('France', 153345695364.24023)\n"
     ]
    }
   ],
   "source": [
    "def task_nine():\n",
    "    gdp_columns = ['2006', '2007', '2008', '2009', '2010', '2011', '2012', '2013', '2014', '2015']\n",
    "    Result['avgGDP'] = Result[gdp_columns].mean(axis=1)\n",
    "    sorted_result = Result.sort_values(by='avgGDP', ascending=False)\n",
    "    fifth_country = sorted_result.iloc[4]\n",
    "    country_name = fifth_country.name\n",
    "    gdp_change = Result.loc[country_name, '2015'] - Result.loc[country_name, '2006']\n",
    "    return (country_name, gdp_change)\n",
    "\n",
    "result = task_nine()\n",
    "print(result)"
   ]
  },
  {
   "cell_type": "code",
   "execution_count": 75,
   "id": "f4174cbc-2781-4457-b609-fde7c0aa5f12",
   "metadata": {},
   "outputs": [
    {
     "name": "stdout",
     "output_type": "stream",
     "text": [
      "('Brazil', 69.64803)\n"
     ]
    }
   ],
   "source": [
    "def task_ten():\n",
    "    max_renewable_row = Result['% Renewable'].idxmax()\n",
    "    country_name = max_renewable_row\n",
    "    max_renewable_value = Result.loc[max_renewable_row, '% Renewable']\n",
    "    return (country_name, max_renewable_value)\n",
    "\n",
    "result = task_ten()\n",
    "print(result)"
   ]
  },
  {
   "cell_type": "code",
   "execution_count": 76,
   "id": "9e80f0bf-eb64-438c-871a-98ebe418f92d",
   "metadata": {},
   "outputs": [
    {
     "name": "stdout",
     "output_type": "stream",
     "text": [
      "('Japan', 127409395.97315437)\n"
     ]
    }
   ],
   "source": [
    "def task_eleven():\n",
    "    Result['Estimated Population'] = Result['Energy Supply'] / Result['Energy Supply per Capita']\n",
    "    sorted_population = Result['Estimated Population'].sort_values(ascending=False)\n",
    "    sixth_country = sorted_population.index[5]\n",
    "    sixth_population = sorted_population.iloc[5]\n",
    "    return (sixth_country, sixth_population)\n",
    "\n",
    "result = task_eleven()\n",
    "print(result)"
   ]
  },
  {
   "cell_type": "code",
   "execution_count": 77,
   "id": "bca853ba-517b-47f1-a515-59a116694e09",
   "metadata": {},
   "outputs": [
    {
     "name": "stdout",
     "output_type": "stream",
     "text": [
      "0.7940010435442946\n"
     ]
    }
   ],
   "source": [
    "def task_twelve():\n",
    "    Result['Citable documents per Capita'] = Result['Citable documents'] / Result['Estimated Population']\n",
    "    correlation = Result['Citable documents per Capita'].corr(Result['Energy Supply per Capita'])\n",
    "    return correlation\n",
    "\n",
    "result = task_twelve()\n",
    "print(result)"
   ]
  },
  {
   "cell_type": "code",
   "execution_count": 78,
   "id": "070eae6b-11b0-448b-aafd-1d60accf47d6",
   "metadata": {},
   "outputs": [
    {
     "name": "stdout",
     "output_type": "stream",
     "text": [
      "Country\n",
      "China                 1\n",
      "United States         0\n",
      "Japan                 0\n",
      "United Kingdom        0\n",
      "Russian Federation    1\n",
      "Canada                1\n",
      "Germany               1\n",
      "India                 0\n",
      "France                1\n",
      "South Korea           0\n",
      "Italy                 1\n",
      "Spain                 1\n",
      "Iran                  0\n",
      "Australia             0\n",
      "Brazil                1\n",
      "Name: HighRenew, dtype: int32\n"
     ]
    }
   ],
   "source": [
    "def task_thirteen():\n",
    "    median_value = Result['% Renewable'].median()\n",
    "    Result['HighRenew'] = (Result['% Renewable'] >= median_value).astype(int)\n",
    "    sorted_result = Result.sort_values(by='Rank')['HighRenew']\n",
    "    return sorted_result\n",
    "\n",
    "result = task_thirteen()\n",
    "print(result)"
   ]
  },
  {
   "cell_type": "code",
   "execution_count": 107,
   "id": "7dcc8eff-0b72-42e4-b357-07dd7e301cd3",
   "metadata": {},
   "outputs": [
    {
     "name": "stdout",
     "output_type": "stream",
     "text": [
      "               size               sum            mean             std\n",
      "Continent                                                            \n",
      "Asia              5 2,898,666,386.611 579,733,277.322 679,097,888.366\n",
      "Australia         1    23,316,017.316  23,316,017.316             NaN\n",
      "Europe            6   457,929,667.216  76,321,611.203  34,647,667.066\n",
      "North America     2   352,855,249.480 176,427,624.740 199,669,644.857\n",
      "South America     1   205,915,254.237 205,915,254.237             NaN\n"
     ]
    }
   ],
   "source": [
    "def task_forteen():\n",
    "    ContinentDict = {\n",
    "        'China': 'Asia',\n",
    "        'United States': 'North America',\n",
    "        'Japan': 'Asia',\n",
    "        'United Kingdom': 'Europe',\n",
    "        'Russian Federation': 'Europe',\n",
    "        'Canada': 'North America',\n",
    "        'Germany': 'Europe',\n",
    "        'India': 'Asia',\n",
    "        'France': 'Europe',\n",
    "        'South Korea': 'Asia',\n",
    "        'Italy': 'Europe',\n",
    "        'Spain': 'Europe',\n",
    "        'Iran': 'Asia',\n",
    "        'Australia': 'Australia',\n",
    "        'Brazil': 'South America'\n",
    "    }\n",
    "    Result['Continent'] = Result.index.map(ContinentDict)\n",
    "    Result['Population'] = Result['Energy Supply'] / Result['Energy Supply per Capita']\n",
    "    grouped = Result.groupby('Continent')['Population'].agg(['size', 'sum', 'mean', 'std'])\n",
    "    return grouped\n",
    "    \n",
    "result = task_forteen()\n",
    "print(result)"
   ]
  },
  {
   "cell_type": "code",
   "execution_count": 116,
   "id": "02e06e92-e11b-41ea-ba94-327f89202c6a",
   "metadata": {},
   "outputs": [
    {
     "data": {
      "image/png": "[encoded data removed]",
      "text/plain": [
       "<Figure size 1200x600 with 1 Axes>"
      ]
     },
     "metadata": {},
     "output_type": "display_data"
    }
   ],
   "source": [
    "import matplotlib.pyplot as plt\n",
    "import pandas as pd\n",
    "\n",
    "ContinentDict = {\n",
    "    'China': 'Asia',\n",
    "    'United States': 'North America',\n",
    "    'Japan': 'Asia',\n",
    "    'United Kingdom': 'Europe',\n",
    "    'Russian Federation': 'Europe',\n",
    "    'Canada': 'North America',\n",
    "    'Germany': 'Europe',\n",
    "    'India': 'Asia',\n",
    "    'France': 'Europe',\n",
    "    'South Korea': 'Asia',\n",
    "    'Italy': 'Europe',\n",
    "    'Spain': 'Europe',\n",
    "    'Iran': 'Asia',\n",
    "    'Australia': 'Australia',\n",
    "    'Brazil': 'South America'\n",
    "}\n",
    "\n",
    "Result['Continent'] = Result.index.map(ContinentDict)\n",
    "colors = {\n",
    "    'Asia': 'red',\n",
    "    'Europe': 'green',\n",
    "    'North America': 'blue',\n",
    "    'South America': 'orange',\n",
    "    'Australia': 'yellow'\n",
    "}\n",
    "\n",
    "plt.figure(figsize=(12, 6))\n",
    "for continent, color in colors.items():\n",
    "    subset = Result[Result['Continent'] == continent]\n",
    "    plt.scatter(\n",
    "        subset['Rank'], \n",
    "        subset['% Renewable'], \n",
    "        s=subset['2015'] / 1e10 * 3, \n",
    "        c=color, \n",
    "        alpha=0.5, \n",
    "        label=continent\n",
    "    )\n",
    "\n",
    "for i, country in enumerate(Result.index):\n",
    "    plt.text(\n",
    "        Result.iloc[i]['Rank'], \n",
    "        Result.iloc[i]['% Renewable'], \n",
    "        country, \n",
    "        fontsize=8, \n",
    "        ha='center', \n",
    "        va='center',  \n",
    "        color='black', \n",
    "        weight='bold'\n",
    "    )\n",
    "    \n",
    "plt.title('Bubble chart')\n",
    "plt.xlabel('Rank')\n",
    "plt.ylabel('% Renewable')\n",
    "plt.xticks(range(1, len(Result['Rank']) + 2))\n",
    "\n",
    "plt.show()"
   ]
  },
  {
   "cell_type": "code",
   "execution_count": null,
   "id": "f3b16bdc-f6dd-489b-bccc-c2d3def030b4",
   "metadata": {},
   "outputs": [],
   "source": []
  }
 ],
 "metadata": {
  "kernelspec": {
   "display_name": "Python 3 (ipykernel)",
   "language": "python",
   "name": "python3"
  },
  "language_info": {
   "codemirror_mode": {
    "name": "ipython",
    "version": 3
   },
   "file_extension": ".py",
   "mimetype": "text/x-python",
   "name": "python",
   "nbconvert_exporter": "python",
   "pygments_lexer": "ipython3",
   "version": "3.12.4"
  }
 },
 "nbformat": 4,
 "nbformat_minor": 5
}
